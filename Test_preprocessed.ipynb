{
 "cells": [
  {
   "cell_type": "code",
   "execution_count": 5,
   "id": "ec814ae4",
   "metadata": {},
   "outputs": [],
   "source": [
    "# Import required libraries\n",
    "import pandas as pd\n",
    "import numpy as np\n",
    "from sklearn.preprocessing import LabelEncoder"
   ]
  },
  {
   "cell_type": "code",
   "execution_count": 10,
   "id": "3d7925c1",
   "metadata": {},
   "outputs": [],
   "source": [
    "# Reload test and train datasets\n",
    "train = pd.read_csv('Train.csv')\n",
    "test = pd.read_csv('Test.csv')"
   ]
  },
  {
   "cell_type": "code",
   "execution_count": 24,
   "id": "0a689db4",
   "metadata": {},
   "outputs": [],
   "source": [
    "# Combine both datasets for consistent preprocessing\n",
    "test_copy = test.copy()\n",
    "combined = pd.concat([train.drop('Item_Outlet_Sales', axis=1), test_copy], axis=0)"
   ]
  },
  {
   "cell_type": "code",
   "execution_count": 22,
   "id": "336a8a87",
   "metadata": {},
   "outputs": [
    {
     "name": "stderr",
     "output_type": "stream",
     "text": [
      "C:\\Users\\Deba\\AppData\\Local\\Temp\\ipykernel_17652\\3178396075.py:3: SettingWithCopyWarning: \n",
      "A value is trying to be set on a copy of a slice from a DataFrame.\n",
      "Try using .loc[row_indexer,col_indexer] = value instead\n",
      "\n",
      "See the caveats in the documentation: https://pandas.pydata.org/pandas-docs/stable/user_guide/indexing.html#returning-a-view-versus-a-copy\n",
      "  test_processed[col] = test_processed[col].astype('category')\n"
     ]
    }
   ],
   "source": [
    "# Convert object columns to category\n",
    "for col in test_processed.select_dtypes(include='object').columns:\n",
    "    test_processed[col] = test_processed[col].astype('category')"
   ]
  },
  {
   "cell_type": "code",
   "execution_count": 12,
   "id": "1c705d0b",
   "metadata": {},
   "outputs": [],
   "source": [
    "# Handle missing values\n",
    "combined['Item_Weight'].fillna(combined['Item_Weight'].mean(), inplace=True)\n",
    "combined['Outlet_Size'].fillna(combined['Outlet_Size'].mode()[0], inplace=True)"
   ]
  },
  {
   "cell_type": "code",
   "execution_count": 13,
   "id": "62885191",
   "metadata": {},
   "outputs": [],
   "source": [
    "# Standardize 'Item_Fat_Content'\n",
    "combined['Item_Fat_Content'] = combined['Item_Fat_Content'].replace({'LF': 'Low Fat', 'low fat': 'Low Fat', 'reg': 'Regular'})"
   ]
  },
  {
   "cell_type": "code",
   "execution_count": 14,
   "id": "5d62e40c",
   "metadata": {},
   "outputs": [],
   "source": [
    "# Derive 'Item_Category' from 'Item_Identifier'\n",
    "combined['Item_Category'] = combined['Item_Identifier'].apply(lambda x: x[:2])\n",
    "combined['Item_Category'] = combined['Item_Category'].map({'FD': 'Food','NC': 'Non-Consumable','DR': 'Drinks'})"
   ]
  },
  {
   "cell_type": "code",
   "execution_count": 15,
   "id": "c080ab3a",
   "metadata": {},
   "outputs": [],
   "source": [
    "# Set 'Item_Fat_Content' to 'Non-Edible' for Non-Consumables\n",
    "combined.loc[combined['Item_Category'] == \"Non-Consumable\", 'Item_Fat_Content'] = \"Non-Edible\""
   ]
  },
  {
   "cell_type": "code",
   "execution_count": 16,
   "id": "04cd642b",
   "metadata": {},
   "outputs": [],
   "source": [
    "# Encode categorical variables\n",
    "categorical_cols = ['Item_Fat_Content', 'Outlet_Identifier', 'Outlet_Size','Outlet_Location_Type', 'Outlet_Type', 'Item_Category']\n",
    "\n",
    "le = LabelEncoder()\n",
    "for col in categorical_cols:\n",
    "    combined[col] = le.fit_transform(combined[col])"
   ]
  },
  {
   "cell_type": "code",
   "execution_count": 27,
   "id": "2e947412",
   "metadata": {},
   "outputs": [],
   "source": [
    "# Columns to encode\n",
    "cat_cols = ['Item_Fat_Content', 'Item_Type', 'Outlet_Identifier', \n",
    "            'Outlet_Size', 'Outlet_Location_Type', 'Outlet_Type']\n",
    "\n",
    "# Apply LabelEncoder (assuming same encoder as used in training)\n",
    "for col in cat_cols:\n",
    "    le = LabelEncoder()\n",
    "    # Fit on train + test combined or just reuse encoder from training\n",
    "    test[col] = le.fit_transform(test[col])\n",
    "    \n",
    "# Also make sure no NaNs remain\n",
    "test = test.fillna(0)"
   ]
  },
  {
   "cell_type": "code",
   "execution_count": 30,
   "id": "a909f46e",
   "metadata": {},
   "outputs": [
    {
     "name": "stdout",
     "output_type": "stream",
     "text": [
      "Item_Identifier                int32\n",
      "Item_Weight                  float64\n",
      "Item_Fat_Content               int32\n",
      "Item_Visibility              float64\n",
      "Item_Type                      int32\n",
      "Item_MRP                     float64\n",
      "Outlet_Identifier              int32\n",
      "Outlet_Establishment_Year      int64\n",
      "Outlet_Size                    int32\n",
      "Outlet_Location_Type           int32\n",
      "Outlet_Type                    int32\n",
      "dtype: object\n"
     ]
    }
   ],
   "source": [
    "# Make a copy\n",
    "test_processed = test.copy()\n",
    "\n",
    "# Fill missing values (if not already done)\n",
    "test_processed['Item_Weight'].fillna(test_processed['Item_Weight'].mean(), inplace=True)\n",
    "test_processed['Outlet_Size'].fillna(test_processed['Outlet_Size'].mode()[0], inplace=True)\n",
    "\n",
    "# Label encode object (categorical) columns\n",
    "cat_cols = test_processed.select_dtypes(include='object').columns\n",
    "\n",
    "le = LabelEncoder()\n",
    "for col in cat_cols:\n",
    "    test_processed[col] = le.fit_transform(test_processed[col].astype(str))\n",
    "\n",
    "# Final check\n",
    "print(test_processed.dtypes)"
   ]
  },
  {
   "cell_type": "code",
   "execution_count": 17,
   "id": "1eb5e5e1",
   "metadata": {},
   "outputs": [],
   "source": [
    "# Create 'Outlet_Years' feature\n",
    "combined['Outlet_Years'] = 2013 - combined['Outlet_Establishment_Year']"
   ]
  },
  {
   "cell_type": "code",
   "execution_count": 18,
   "id": "c4980d22",
   "metadata": {},
   "outputs": [],
   "source": [
    "# Drop unused columns\n",
    "combined.drop(['Item_Identifier', 'Outlet_Establishment_Year'], axis=1, inplace=True)"
   ]
  },
  {
   "cell_type": "code",
   "execution_count": 19,
   "id": "6ce69275",
   "metadata": {},
   "outputs": [
    {
     "data": {
      "text/html": [
       "<div>\n",
       "<style scoped>\n",
       "    .dataframe tbody tr th:only-of-type {\n",
       "        vertical-align: middle;\n",
       "    }\n",
       "\n",
       "    .dataframe tbody tr th {\n",
       "        vertical-align: top;\n",
       "    }\n",
       "\n",
       "    .dataframe thead th {\n",
       "        text-align: right;\n",
       "    }\n",
       "</style>\n",
       "<table border=\"1\" class=\"dataframe\">\n",
       "  <thead>\n",
       "    <tr style=\"text-align: right;\">\n",
       "      <th></th>\n",
       "      <th>Item_Weight</th>\n",
       "      <th>Item_Fat_Content</th>\n",
       "      <th>Item_Visibility</th>\n",
       "      <th>Item_Type</th>\n",
       "      <th>Item_MRP</th>\n",
       "      <th>Outlet_Identifier</th>\n",
       "      <th>Outlet_Size</th>\n",
       "      <th>Outlet_Location_Type</th>\n",
       "      <th>Outlet_Type</th>\n",
       "      <th>Item_Category</th>\n",
       "      <th>Outlet_Years</th>\n",
       "    </tr>\n",
       "  </thead>\n",
       "  <tbody>\n",
       "    <tr>\n",
       "      <th>0</th>\n",
       "      <td>20.750000</td>\n",
       "      <td>0</td>\n",
       "      <td>0.007565</td>\n",
       "      <td>Snack Foods</td>\n",
       "      <td>107.8622</td>\n",
       "      <td>9</td>\n",
       "      <td>1</td>\n",
       "      <td>0</td>\n",
       "      <td>1</td>\n",
       "      <td>1</td>\n",
       "      <td>14</td>\n",
       "    </tr>\n",
       "    <tr>\n",
       "      <th>1</th>\n",
       "      <td>8.300000</td>\n",
       "      <td>2</td>\n",
       "      <td>0.038428</td>\n",
       "      <td>Dairy</td>\n",
       "      <td>87.3198</td>\n",
       "      <td>2</td>\n",
       "      <td>1</td>\n",
       "      <td>1</td>\n",
       "      <td>1</td>\n",
       "      <td>1</td>\n",
       "      <td>6</td>\n",
       "    </tr>\n",
       "    <tr>\n",
       "      <th>2</th>\n",
       "      <td>14.600000</td>\n",
       "      <td>1</td>\n",
       "      <td>0.099575</td>\n",
       "      <td>Others</td>\n",
       "      <td>241.7538</td>\n",
       "      <td>0</td>\n",
       "      <td>1</td>\n",
       "      <td>2</td>\n",
       "      <td>0</td>\n",
       "      <td>2</td>\n",
       "      <td>15</td>\n",
       "    </tr>\n",
       "    <tr>\n",
       "      <th>3</th>\n",
       "      <td>7.315000</td>\n",
       "      <td>0</td>\n",
       "      <td>0.015388</td>\n",
       "      <td>Snack Foods</td>\n",
       "      <td>155.0340</td>\n",
       "      <td>2</td>\n",
       "      <td>1</td>\n",
       "      <td>1</td>\n",
       "      <td>1</td>\n",
       "      <td>1</td>\n",
       "      <td>6</td>\n",
       "    </tr>\n",
       "    <tr>\n",
       "      <th>4</th>\n",
       "      <td>12.792854</td>\n",
       "      <td>2</td>\n",
       "      <td>0.118599</td>\n",
       "      <td>Dairy</td>\n",
       "      <td>234.2300</td>\n",
       "      <td>5</td>\n",
       "      <td>1</td>\n",
       "      <td>2</td>\n",
       "      <td>3</td>\n",
       "      <td>1</td>\n",
       "      <td>28</td>\n",
       "    </tr>\n",
       "  </tbody>\n",
       "</table>\n",
       "</div>"
      ],
      "text/plain": [
       "   Item_Weight  Item_Fat_Content  Item_Visibility    Item_Type  Item_MRP  \\\n",
       "0    20.750000                 0         0.007565  Snack Foods  107.8622   \n",
       "1     8.300000                 2         0.038428        Dairy   87.3198   \n",
       "2    14.600000                 1         0.099575       Others  241.7538   \n",
       "3     7.315000                 0         0.015388  Snack Foods  155.0340   \n",
       "4    12.792854                 2         0.118599        Dairy  234.2300   \n",
       "\n",
       "   Outlet_Identifier  Outlet_Size  Outlet_Location_Type  Outlet_Type  \\\n",
       "0                  9            1                     0            1   \n",
       "1                  2            1                     1            1   \n",
       "2                  0            1                     2            0   \n",
       "3                  2            1                     1            1   \n",
       "4                  5            1                     2            3   \n",
       "\n",
       "   Item_Category  Outlet_Years  \n",
       "0              1            14  \n",
       "1              1             6  \n",
       "2              2            15  \n",
       "3              1             6  \n",
       "4              1            28  "
      ]
     },
     "execution_count": 19,
     "metadata": {},
     "output_type": "execute_result"
    }
   ],
   "source": [
    "# Extract the processed test set\n",
    "test_processed = combined[len(train):]\n",
    "test_processed.head()"
   ]
  },
  {
   "cell_type": "code",
   "execution_count": 29,
   "id": "9b28c748",
   "metadata": {},
   "outputs": [],
   "source": [
    "# At the end of Test_preprocessed.ipynb\n",
    "test_processed.to_csv('Test_preprocessed.csv', index=False)\n",
    "test_processed = test.copy()"
   ]
  },
  {
   "cell_type": "code",
   "execution_count": 33,
   "id": "832bfaca",
   "metadata": {},
   "outputs": [],
   "source": [
    "import joblib"
   ]
  },
  {
   "cell_type": "code",
   "execution_count": 32,
   "id": "d4347ecf",
   "metadata": {},
   "outputs": [
    {
     "data": {
      "text/plain": [
       "['test_final_processed.pkl']"
      ]
     },
     "execution_count": 32,
     "metadata": {},
     "output_type": "execute_result"
    }
   ],
   "source": [
    "# Load the test_preprocessed\n",
    "test_processed = joblib.load(\"test_processed.pkl\")\n",
    "\n",
    "# Drop columns not used in training\n",
    "test_processed.drop(['Item_Identifier', 'Outlet_Identifier'], axis=1, inplace=True)\n",
    "\n",
    "# One-hot encode the same categorical columns (use training columns as reference)\n",
    "# You must use same columns as in training\n",
    "model_features = ['Item_Weight', 'Item_Visibility', 'Item_MRP', 'Outlet_Establishment_Year',\n",
    " 'Item_Fat_Content_Low Fat', 'Item_Fat_Content_Regular', 'Item_Fat_Content_low fat', 'Item_Fat_Content_reg',\n",
    " 'Item_Type_Breads', 'Item_Type_Breakfast', 'Item_Type_Canned', 'Item_Type_Dairy', 'Item_Type_Frozen Foods',\n",
    " 'Item_Type_Fruits and Vegetables', 'Item_Type_Hard Drinks', 'Item_Type_Health and Hygiene',\n",
    " 'Item_Type_Household', 'Item_Type_Meat', 'Item_Type_Others', 'Item_Type_Seafood', 'Item_Type_Snack Foods',\n",
    " 'Item_Type_Soft Drinks', 'Item_Type_Starchy Foods', 'Outlet_Size_Medium', 'Outlet_Size_Small',\n",
    " 'Outlet_Location_Type_Tier 2', 'Outlet_Location_Type_Tier 3', 'Outlet_Type_Supermarket Type1',\n",
    " 'Outlet_Type_Supermarket Type2', 'Outlet_Type_Supermarket Type3']\n",
    "\n",
    "# One-hot encode test set\n",
    "test_encoded = pd.get_dummies(test_processed)\n",
    "\n",
    "# Add missing columns\n",
    "for col in model_features:\n",
    "    if col not in test_encoded.columns:\n",
    "        test_encoded[col] = 0\n",
    "\n",
    "# Ensure same column order\n",
    "test_encoded = test_encoded[model_features]\n",
    "\n",
    "# Save the updated test set\n",
    "joblib.dump(test_encoded, 'test_final_processed.pkl')"
   ]
  }
 ],
 "metadata": {
  "kernelspec": {
   "display_name": "Python 3 (ipykernel)",
   "language": "python",
   "name": "python3"
  },
  "language_info": {
   "codemirror_mode": {
    "name": "ipython",
    "version": 3
   },
   "file_extension": ".py",
   "mimetype": "text/x-python",
   "name": "python",
   "nbconvert_exporter": "python",
   "pygments_lexer": "ipython3",
   "version": "3.9.13"
  }
 },
 "nbformat": 4,
 "nbformat_minor": 5
}
