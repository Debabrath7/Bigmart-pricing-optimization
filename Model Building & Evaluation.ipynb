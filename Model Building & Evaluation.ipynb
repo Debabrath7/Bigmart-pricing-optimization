{
 "cells": [
  {
   "cell_type": "code",
   "execution_count": 7,
   "id": "dac4ea72",
   "metadata": {},
   "outputs": [],
   "source": [
    "# Import required libraries\n",
    "import pandas as pd\n",
    "import numpy as np\n",
    "from sklearn.linear_model import LinearRegression\n",
    "from sklearn.ensemble import RandomForestRegressor\n",
    "from xgboost import XGBRegressor\n",
    "from sklearn.metrics import mean_squared_error\n",
    "from sklearn.model_selection import cross_val_score\n",
    "from sklearn.model_selection import train_test_split"
   ]
  },
  {
   "cell_type": "code",
   "execution_count": 2,
   "id": "8391f9b3",
   "metadata": {},
   "outputs": [],
   "source": [
    "# Load the dataset\n",
    "df = pd.read_csv(\"Train.csv\")"
   ]
  },
  {
   "cell_type": "code",
   "execution_count": 65,
   "id": "0d220f6b",
   "metadata": {},
   "outputs": [],
   "source": [
    "import joblib\n",
    "\n",
    "# Load the final processed test set\n",
    "test_final = joblib.load(\"test_final_processed.pkl\")"
   ]
  },
  {
   "cell_type": "code",
   "execution_count": 4,
   "id": "26c9b471",
   "metadata": {},
   "outputs": [],
   "source": [
    "# Copy the dataset to avoid changing original\n",
    "data = df.copy()"
   ]
  },
  {
   "cell_type": "code",
   "execution_count": 18,
   "id": "962822b5",
   "metadata": {},
   "outputs": [],
   "source": [
    "# Ensure 'Item_Outlet_Sales' is in the dataset\n",
    "assert 'Item_Outlet_Sales' in data.columns"
   ]
  },
  {
   "cell_type": "code",
   "execution_count": 19,
   "id": "3e0cf704",
   "metadata": {},
   "outputs": [
    {
     "name": "stdout",
     "output_type": "stream",
     "text": [
      "Non-numeric columns: ['Item_Identifier', 'Item_Fat_Content', 'Item_Type', 'Outlet_Identifier', 'Outlet_Size', 'Outlet_Location_Type', 'Outlet_Type']\n"
     ]
    }
   ],
   "source": [
    "# Check for any object (non-numeric) dtypes\n",
    "non_numeric_cols = data.select_dtypes(include=['object']).columns.tolist()\n",
    "print(\"Non-numeric columns:\", non_numeric_cols)"
   ]
  },
  {
   "cell_type": "code",
   "execution_count": 20,
   "id": "5400c155",
   "metadata": {},
   "outputs": [],
   "source": [
    "# Drop them if any were missed\n",
    "data_cleaned = data.drop(non_numeric_cols, axis=1)"
   ]
  },
  {
   "cell_type": "code",
   "execution_count": 25,
   "id": "d48a4706",
   "metadata": {},
   "outputs": [
    {
     "name": "stdout",
     "output_type": "stream",
     "text": [
      "Missing values before fixing:\n",
      "Item_Identifier                 0\n",
      "Item_Weight                  1463\n",
      "Item_Fat_Content                0\n",
      "Item_Visibility                 0\n",
      "Item_Type                       0\n",
      "Item_MRP                        0\n",
      "Outlet_Identifier               0\n",
      "Outlet_Establishment_Year       0\n",
      "Outlet_Size                  2410\n",
      "Outlet_Location_Type            0\n",
      "Outlet_Type                     0\n",
      "Item_Outlet_Sales               0\n",
      "dtype: int64\n"
     ]
    }
   ],
   "source": [
    "# Check for missing values\n",
    "print(\"Missing values before fixing:\")\n",
    "print(data.isnull().sum())"
   ]
  },
  {
   "cell_type": "code",
   "execution_count": 26,
   "id": "f6cddcf3",
   "metadata": {},
   "outputs": [],
   "source": [
    "# Fill or drop missing values\n",
    "numeric_cols = data.select_dtypes(include=['int64', 'float64']).columns\n",
    "data[numeric_cols] = data[numeric_cols].fillna(data[numeric_cols].median())"
   ]
  },
  {
   "cell_type": "code",
   "execution_count": 27,
   "id": "e8a6078e",
   "metadata": {},
   "outputs": [],
   "source": [
    "# Fill categorical columns with mode\n",
    "categorical_cols = data.select_dtypes(include=['object']).columns\n",
    "for col in categorical_cols:\n",
    "    data[col] = data[col].fillna(data[col].mode()[0])"
   ]
  },
  {
   "cell_type": "code",
   "execution_count": 28,
   "id": "287ab117",
   "metadata": {},
   "outputs": [
    {
     "name": "stdout",
     "output_type": "stream",
     "text": [
      "\n",
      "Missing values after fixing:\n",
      "Item_Identifier              0\n",
      "Item_Weight                  0\n",
      "Item_Fat_Content             0\n",
      "Item_Visibility              0\n",
      "Item_Type                    0\n",
      "Item_MRP                     0\n",
      "Outlet_Identifier            0\n",
      "Outlet_Establishment_Year    0\n",
      "Outlet_Size                  0\n",
      "Outlet_Location_Type         0\n",
      "Outlet_Type                  0\n",
      "Item_Outlet_Sales            0\n",
      "dtype: int64\n"
     ]
    }
   ],
   "source": [
    "# Check again\n",
    "print(\"\\nMissing values after fixing:\")\n",
    "print(data.isnull().sum())"
   ]
  },
  {
   "cell_type": "code",
   "execution_count": 34,
   "id": "3d534846",
   "metadata": {},
   "outputs": [
    {
     "name": "stdout",
     "output_type": "stream",
     "text": [
      "Min: 33.29\n",
      "Max: 13086.9648\n",
      "Mean: 2181.2889135750365\n"
     ]
    }
   ],
   "source": [
    "print(\"Min:\", y.min())\n",
    "print(\"Max:\", y.max())\n",
    "print(\"Mean:\", y.mean())"
   ]
  },
  {
   "cell_type": "code",
   "execution_count": 36,
   "id": "0e37abe0",
   "metadata": {},
   "outputs": [],
   "source": [
    "data = data.drop([\"Item_Identifier\", \"Outlet_Identifier\"], axis=1)"
   ]
  },
  {
   "cell_type": "code",
   "execution_count": 59,
   "id": "5815b785",
   "metadata": {},
   "outputs": [],
   "source": [
    "xgb = XGBRegressor(random_state=42, enable_categorical=True)"
   ]
  },
  {
   "cell_type": "code",
   "execution_count": 37,
   "id": "bdfe24ba",
   "metadata": {},
   "outputs": [],
   "source": [
    "# Encode categoricals\n",
    "data_encoded = pd.get_dummies(data, drop_first=True)"
   ]
  },
  {
   "cell_type": "code",
   "execution_count": 38,
   "id": "e7aee7ee",
   "metadata": {},
   "outputs": [],
   "source": [
    "# Split\n",
    "X = data_encoded.drop(\"Item_Outlet_Sales\", axis=1)\n",
    "y = data_encoded[\"Item_Outlet_Sales\"]\n",
    "X_train, X_val, y_train, y_val = train_test_split(X, y, test_size=0.2, random_state=42)"
   ]
  },
  {
   "cell_type": "markdown",
   "id": "9d31cf8a",
   "metadata": {},
   "source": [
    "### RMSE and Cross-Validation"
   ]
  },
  {
   "cell_type": "code",
   "execution_count": 39,
   "id": "cfc9d0f3",
   "metadata": {},
   "outputs": [],
   "source": [
    "# Define a functiom to evaluate RMSE\n",
    "def evaluate_model(model, name):\n",
    "    model.fit(X_train, y_train)\n",
    "    preds = model.predict(X_val)\n",
    "    rmse = np.sqrt(mean_squared_error(y_val, preds))\n",
    "    print(f\"{name} RMSE: {rmse:.4f}\")\n",
    "    \n",
    "    # Cross-validation\n",
    "    scores = cross_val_score(model, X, y, scoring='neg_root_mean_squared_error', cv=5)\n",
    "    print(f\"{name} CV RMSE: {-scores.mean():.4f} (+/- {scores.std():.4f})\\n\")"
   ]
  },
  {
   "cell_type": "markdown",
   "id": "96bc4196",
   "metadata": {},
   "source": [
    "### Linear Regression"
   ]
  },
  {
   "cell_type": "code",
   "execution_count": 40,
   "id": "fb9e2ddf",
   "metadata": {},
   "outputs": [
    {
     "name": "stdout",
     "output_type": "stream",
     "text": [
      "Linear Regression RMSE: 1069.0979\n",
      "Linear Regression CV RMSE: 1132.9179 (+/- 14.2492)\n",
      "\n"
     ]
    }
   ],
   "source": [
    "lr = LinearRegression()\n",
    "evaluate_model(lr, \"Linear Regression\")"
   ]
  },
  {
   "cell_type": "markdown",
   "id": "598e4831",
   "metadata": {},
   "source": [
    "### Model Benchmarking"
   ]
  },
  {
   "cell_type": "markdown",
   "id": "916f0b9f",
   "metadata": {},
   "source": [
    "1. Ridge Regression"
   ]
  },
  {
   "cell_type": "code",
   "execution_count": 42,
   "id": "6ab4c34e",
   "metadata": {},
   "outputs": [
    {
     "name": "stdout",
     "output_type": "stream",
     "text": [
      "Ridge Regression RMSE: 1069.2254\n",
      "Ridge Regression CV RMSE: 1132.8972 (+/- 14.2770)\n",
      "\n"
     ]
    }
   ],
   "source": [
    "from sklearn.linear_model import Ridge\n",
    "\n",
    "ridge = Ridge(alpha=1.0)\n",
    "evaluate_model(ridge, \"Ridge Regression\")"
   ]
  },
  {
   "cell_type": "markdown",
   "id": "66fb451f",
   "metadata": {},
   "source": [
    "2. Random Forest"
   ]
  },
  {
   "cell_type": "code",
   "execution_count": 43,
   "id": "d163155f",
   "metadata": {},
   "outputs": [
    {
     "name": "stdout",
     "output_type": "stream",
     "text": [
      "Random Forest RMSE: 1098.7635\n",
      "Random Forest CV RMSE: 1148.5762 (+/- 10.2115)\n",
      "\n"
     ]
    }
   ],
   "source": [
    "rf = RandomForestRegressor(n_estimators=100, random_state=42)\n",
    "evaluate_model(rf, \"Random Forest\")"
   ]
  },
  {
   "cell_type": "markdown",
   "id": "6d9dcf41",
   "metadata": {},
   "source": [
    "3. XG Boost"
   ]
  },
  {
   "cell_type": "code",
   "execution_count": 44,
   "id": "725ceb60",
   "metadata": {},
   "outputs": [
    {
     "name": "stdout",
     "output_type": "stream",
     "text": [
      "XGBoost Regressor RMSE: 1065.4167\n",
      "XGBoost Regressor CV RMSE: 1125.9240 (+/- 6.4054)\n",
      "\n"
     ]
    }
   ],
   "source": [
    "xgb = XGBRegressor(n_estimators=100, learning_rate=0.1, random_state=42)\n",
    "evaluate_model(xgb, \"XGBoost Regressor\")"
   ]
  },
  {
   "cell_type": "markdown",
   "id": "1aaea456",
   "metadata": {},
   "source": [
    "### Train XGBoost on Full Train Data"
   ]
  },
  {
   "cell_type": "code",
   "execution_count": 45,
   "id": "96e82079",
   "metadata": {},
   "outputs": [
    {
     "data": {
      "text/plain": [
       "XGBRegressor(base_score=None, booster=None, callbacks=None,\n",
       "             colsample_bylevel=None, colsample_bynode=None,\n",
       "             colsample_bytree=None, device=None, early_stopping_rounds=None,\n",
       "             enable_categorical=False, eval_metric=None, feature_types=None,\n",
       "             gamma=None, grow_policy=None, importance_type=None,\n",
       "             interaction_constraints=None, learning_rate=0.1, max_bin=None,\n",
       "             max_cat_threshold=None, max_cat_to_onehot=None,\n",
       "             max_delta_step=None, max_depth=None, max_leaves=None,\n",
       "             min_child_weight=None, missing=nan, monotone_constraints=None,\n",
       "             multi_strategy=None, n_estimators=100, n_jobs=None,\n",
       "             num_parallel_tree=None, random_state=42, ...)"
      ]
     },
     "execution_count": 45,
     "metadata": {},
     "output_type": "execute_result"
    }
   ],
   "source": [
    "final_model = XGBRegressor(n_estimators=100, learning_rate=0.1, random_state=42)\n",
    "final_model.fit(X, y)"
   ]
  },
  {
   "cell_type": "markdown",
   "id": "8812efff",
   "metadata": {},
   "source": [
    "### Prepare Test Set and Predict"
   ]
  },
  {
   "cell_type": "code",
   "execution_count": 66,
   "id": "87745675",
   "metadata": {},
   "outputs": [],
   "source": [
    "# Make predictions using the best model\n",
    "test_preds = final_model.predict(test_final)"
   ]
  },
  {
   "cell_type": "code",
   "execution_count": 67,
   "id": "5e7eb157",
   "metadata": {},
   "outputs": [],
   "source": [
    "# Load original test file to get identifiers\n",
    "original_test = pd.read_csv(\"Test.csv\")"
   ]
  },
  {
   "cell_type": "code",
   "execution_count": 68,
   "id": "243d81bd",
   "metadata": {},
   "outputs": [],
   "source": [
    "# Prepare submission file\n",
    "submission = pd.DataFrame({\"Item_Identifier\": original_test[\"Item_Identifier\"],\"Outlet_Identifier\": original_test[\"Outlet_Identifier\"],\"Item_Outlet_Sales\": test_preds})"
   ]
  },
  {
   "cell_type": "code",
   "execution_count": 69,
   "id": "4974891b",
   "metadata": {},
   "outputs": [
    {
     "name": "stdout",
     "output_type": "stream",
     "text": [
      "Submission file saved as 'submission.csv'\n"
     ]
    }
   ],
   "source": [
    "# Save to CSV\n",
    "submission.to_csv(\"submission.csv\", index=False)\n",
    "print(\"Submission file saved as 'submission.csv'\")"
   ]
  },
  {
   "cell_type": "code",
   "execution_count": 70,
   "id": "a53d882f",
   "metadata": {},
   "outputs": [
    {
     "name": "stdout",
     "output_type": "stream",
     "text": [
      "Model saved as 'final_model.pkl'\n"
     ]
    }
   ],
   "source": [
    "# Save the final model\n",
    "joblib.dump(final_model, 'final_model.pkl')\n",
    "print(\"Model saved as 'final_model.pkl'\")"
   ]
  }
 ],
 "metadata": {
  "kernelspec": {
   "display_name": "Python 3 (ipykernel)",
   "language": "python",
   "name": "python3"
  },
  "language_info": {
   "codemirror_mode": {
    "name": "ipython",
    "version": 3
   },
   "file_extension": ".py",
   "mimetype": "text/x-python",
   "name": "python",
   "nbconvert_exporter": "python",
   "pygments_lexer": "ipython3",
   "version": "3.9.13"
  }
 },
 "nbformat": 4,
 "nbformat_minor": 5
}
